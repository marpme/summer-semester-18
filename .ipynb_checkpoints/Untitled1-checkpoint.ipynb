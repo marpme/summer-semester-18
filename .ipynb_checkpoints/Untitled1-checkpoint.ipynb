{
 "cells": [
  {
   "cell_type": "code",
   "execution_count": 3,
   "metadata": {},
   "outputs": [
    {
     "name": "stdout",
     "output_type": "stream",
     "text": [
      "(u'Andreas Abel', u'Wirtschaftspolitiker der CDU wollen Hartz IV ersatzlos streichen', u'2018-04-26T03:00:00+02:00', u'2018-04-27T07:05:09+02:00', u'Berlin, Hartz IV, Arbeitslose, Arbeitslosengeld II, Unter 50, CDU, Jobcenter, Arbeitsamt', u'Die Mittelstands- und Wirtschaftsvereinigung der Berliner Union will vor allem j\\xfcngere Hartz-IV-Bezieher st\\xe4rker in die Pflicht nehmen, sich um einen Job zu bem\\xfchen.')\n",
      "1\n"
     ]
    }
   ],
   "source": [
    "import requests\n",
    "from bs4 import BeautifulSoup\n",
    "def web(WebUrl):\n",
    "       url = WebUrl\n",
    "       page = requests.get(url)\n",
    "       soup = BeautifulSoup(page.content, 'html.parser')\n",
    "       #print(soup.prettify()[:1000])\n",
    "       author = soup.find('meta', {'name': 'author'})[\"content\"]\n",
    "       title = soup.find('meta', {'property': 'og:title'})[\"content\"]\n",
    "       pub_date = soup.find('meta', {'name': 'DC.date.issued'})[\"content\"]\n",
    "       last_modified = soup.find('meta', {'name': 'last-modified'})[\"content\"]\n",
    "       keywords = soup.find('meta', {'name': 'keywords'})[\"content\"]\n",
    "       description = soup.find('meta', {'name': 'description'})[\"content\"]\n",
    "       print(author, title, pub_date, last_modified,  keywords, description)\n",
    "       counter = 0\n",
    "       for paragraph in soup.findAll('div', {'class':'article__body'}):\n",
    "           counter += 1\n",
    "       print(counter)\n",
    "        \n",
    "web('https://www.morgenpost.de/berlin/article214123799/CDU-Politiker-wollen-Hartz-IV-ersatzlos-streichen.html')"
   ]
  },
  {
   "cell_type": "code",
   "execution_count": null,
   "metadata": {},
   "outputs": [],
   "source": []
  }
 ],
 "metadata": {
  "kernelspec": {
   "display_name": "Python 2",
   "language": "python",
   "name": "python2"
  },
  "language_info": {
   "codemirror_mode": {
    "name": "ipython",
    "version": 2
   },
   "file_extension": ".py",
   "mimetype": "text/x-python",
   "name": "python",
   "nbconvert_exporter": "python",
   "pygments_lexer": "ipython2",
   "version": "2.7.14"
  }
 },
 "nbformat": 4,
 "nbformat_minor": 2
}
