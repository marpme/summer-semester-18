{
 "cells": [
  {
   "cell_type": "markdown",
   "metadata": {},
   "source": [
    "# Übung Lineare Algebra (10 Punkte)\n",
    "\n",
    "Diese kleine Übung soll die Implementierung von grundlegenden arithmetischen Opertationen auf Vektoren und Matrizen wiederholen. \n",
    "\n",
    "Bitte implementieren Sie die notwendigen Methoden in der Datei **ak1163051/lineare_algebra.py** auf Basis des Datentyps **Liste** und verifizieren Sie ihre eigene Implementierungen mit der entsprechenden Operation aus dem Numpy-Modul in diesem Notebook, falls möglich. Ein Beispiel ist mit Addition und Subtraktion der Vektoren $\\vec{a}$ und $\\vec{b}$ gegeben.\n"
   ]
  },
  {
   "cell_type": "code",
   "execution_count": 2,
   "metadata": {},
   "outputs": [
    {
     "name": "stdout",
     "output_type": "stream",
     "text": [
      "('Vektor a: ', [150, 85, 240, 59, 8, 43, 167, 230, 219, 48])\n",
      "('Vektor b: ', [1, 102, 9, 163, 144, 162, 142, 122, 251, 201])\n"
     ]
    }
   ],
   "source": [
    "# Initialization of basic modules and global parameters... \n",
    "from lineare_algebra import * \n",
    "import numpy as np\n",
    "import random\n",
    "\n",
    "# create vectors a and b with 10 digits between 0-255\n",
    "vec_a = random.sample(range(255), 10)\n",
    "vec_b = random.sample(range(255), 10)\n",
    "\n",
    "print (\"Vektor a: \", vec_a)\n",
    "print (\"Vektor b: \", vec_b)"
   ]
  },
  {
   "cell_type": "markdown",
   "metadata": {},
   "source": [
    "## Addition und Subtraktion von Vektoren\n",
    "\n",
    "Berechnen Sie Betrag und Differenz von Vektoren nach folgendem Prinzip:\n",
    "\n",
    "$$\n",
    "\\begin{equation}\n",
    "    \\vec{a} + \\vec{b} \n",
    "    = \n",
    "    \\begin{pmatrix}\n",
    "    a_1\\\\ \n",
    "    a_2\\\\ \n",
    "    a_3\n",
    "    \\end{pmatrix} \n",
    "    +\n",
    "    \\begin{pmatrix}\n",
    "    b_1\\\\ \n",
    "    b_2\\\\ \n",
    "    b_3\n",
    "    \\end{pmatrix}\n",
    "    =\n",
    "    \\begin{pmatrix}\n",
    "    a_1 + b_1\\\\ \n",
    "    a_2 + b_2\\\\ \n",
    "    a_3 + b_3\n",
    "    \\end{pmatrix}\n",
    "\\end{equation}\n",
    "$$\n",
    "$$\n",
    "\\begin{equation}\n",
    "    \\vec{a} - \\vec{b} \n",
    "    = \n",
    "    \\begin{pmatrix}\n",
    "    a_1\\\\ \n",
    "    a_2\\\\ \n",
    "    a_3\n",
    "    \\end{pmatrix} \n",
    "    -\n",
    "    \\begin{pmatrix}\n",
    "    b_1\\\\ \n",
    "    b_2\\\\ \n",
    "    b_3\n",
    "    \\end{pmatrix}\n",
    "    =\n",
    "    \\begin{pmatrix}\n",
    "    a_1 - b_1\\\\ \n",
    "    a_2 - b_2\\\\ \n",
    "    a_3 - b_3\n",
    "    \\end{pmatrix}\n",
    "\\end{equation}\n",
    "$$\n"
   ]
  },
  {
   "cell_type": "code",
   "execution_count": 3,
   "metadata": {},
   "outputs": [
    {
     "name": "stdout",
     "output_type": "stream",
     "text": [
      "('Result of vector addition:', [243, 237, 117, 382, 132, 157, 288, 324, 193, 187])\n",
      "('Are the operations arithmetically equal?', True)\n",
      "('Result of vector subtraction:', [169, -213, 91, 6, 28, -7, 156, 46, 133, -119])\n",
      "('Are the operations arithmetically equal?', True)\n"
     ]
    }
   ],
   "source": [
    "# Addition\n",
    "add_result = vector_add(vec_a,vec_b)\n",
    "print (\"Result of vector addition:\", add_result)\n",
    "print (\"Are the operations arithmetically equal?\", np.array_equal(add_result, np.add(vec_a,vec_b)))\n",
    "\n",
    "# Subtraction - please implement the methode in lineare_algebra.py \n",
    "sub_result = vector_sub(vec_a,vec_b)\n",
    "print (\"Result of vector subtraction:\", sub_result)\n",
    "print (\"Are the operations arithmetically equal?\", np.array_equal(sub_result, np.subtract(vec_a,vec_b)))"
   ]
  },
  {
   "cell_type": "markdown",
   "metadata": {},
   "source": [
    "## Multiplikation von Vektoren mit einem Skalar (0,5 Punkt)\n",
    "\n",
    "Berechenen Sie die Multiplikation von einem Skalar und einem Vektoren nach folgendem Prinzip:\n",
    "\n",
    "$$\n",
    "\\begin{equation}\n",
    "    r * \\vec{a}\n",
    "    = \n",
    "    r\n",
    "    \\begin{pmatrix}\n",
    "    a_1\\\\ \n",
    "    a_2\\\\ \n",
    "    a_3\n",
    "    \\end{pmatrix} \n",
    "    =\n",
    "    \\begin{pmatrix}\n",
    "    ra_1\\\\ \n",
    "    ra_2\\\\ \n",
    "    ra_3\n",
    "    \\end{pmatrix}\n",
    "\\end{equation}\n",
    "$$"
   ]
  },
  {
   "cell_type": "code",
   "execution_count": 4,
   "metadata": {},
   "outputs": [
    {
     "name": "stdout",
     "output_type": "stream",
     "text": [
      "('Result of vector subtraction:', [5150, 300, 2600, 4850, 2000, 1875, 5550, 4625, 4075, 850])\n",
      "('Are the operations arithmetically equal?', True)\n"
     ]
    }
   ],
   "source": [
    "# your code\n",
    "r = 25\n",
    "vec_mul_result = vector_scalar_mul(r, vec_a)\n",
    "print (\"Result of vector subtraction:\", vec_mul_result)\n",
    "print (\"Are the operations arithmetically equal?\", np.array_equal(vec_mul_result, np.multiply(r,vec_a)))"
   ]
  },
  {
   "cell_type": "markdown",
   "metadata": {},
   "source": [
    "## Skalarprodukt (dot product) von Vektoren (1 Punkte)\n",
    "\n",
    "Berechnen Sie das Skalarprodukt von zwei Vektoren nach folgendem Prinzip:\n",
    "\n",
    "$$\n",
    "\\begin{equation}\n",
    "    \\vec{a} * \\vec{b} \n",
    "    = \n",
    "    \\begin{pmatrix}\n",
    "    a_1\\\\ \n",
    "    a_2\\\\ \n",
    "    a_3\n",
    "    \\end{pmatrix} \n",
    "    *\n",
    "    \\begin{pmatrix}\n",
    "    b_1\\\\ \n",
    "    b_2\\\\ \n",
    "    b_3\n",
    "    \\end{pmatrix}\n",
    "    =\n",
    "    a_1 * b_1 + a_2 * b_2 + a_3 * b_3\n",
    "\\end{equation}\n",
    "$$"
   ]
  },
  {
   "cell_type": "code",
   "execution_count": 5,
   "metadata": {
    "collapsed": true
   },
   "outputs": [
    {
     "name": "stdout",
     "output_type": "stream",
     "text": [
      "('Result of vector subtraction:', 108915)\n",
      "('Are the operations arithmetically equal?', True)\n"
     ]
    }
   ],
   "source": [
    "# your code (numpy: https://docs.scipy.org/doc/numpy/reference/generated/numpy.dot.html)\n",
    "vec_dot_result = vector_dot(vec_a, vec_b)\n",
    "print (\"Result of vector subtraction:\", vec_dot_result)\n",
    "print (\"Are the operations arithmetically equal?\", np.array_equal(vec_dot_result, np.dot(vec_a,vec_b)))"
   ]
  },
  {
   "cell_type": "markdown",
   "metadata": {},
   "source": [
    "## Erzeugen einer Matrize (1 Punkte)\n",
    "Erzeugen Sie mit Hilfe einer Methode eine Matrize mit der Dimension 10x10 von Zufallswerten zwischen 0 und 255."
   ]
  },
  {
   "cell_type": "code",
   "execution_count": 6,
   "metadata": {
    "collapsed": true
   },
   "outputs": [
    {
     "name": "stdout",
     "output_type": "stream",
     "text": [
      "[\n",
      "[193, 189, 147, 99, 23, 127, 254, 74, 162, 62]\n",
      "[67, 162, 32, 30, 154, 159, 207, 77, 200, 125]\n",
      "[160, 26, 53, 137, 193, 183, 173, 43, 57, 1]\n",
      "[45, 184, 197, 189, 35, 138, 123, 209, 185, 90]\n",
      "[125, 89, 142, 76, 58, 126, 8, 148, 243, 214]\n",
      "[96, 147, 89, 62, 59, 118, 107, 234, 136, 190]\n",
      "[6, 82, 199, 109, 94, 82, 127, 237, 89, 192]\n",
      "[197, 68, 72, 89, 224, 62, 57, 218, 215, 231]\n",
      "[177, 147, 214, 83, 40, 113, 211, 22, 151, 73]\n",
      "[65, 17, 97, 126, 114, 93, 209, 105, 200, 220]\n",
      "]\n"
     ]
    }
   ],
   "source": [
    "mat_A = create_random_matrix(10,10)\n",
    "# print (\"Matrix A: \", mat_A)\n",
    "print(\"[\")\n",
    "for x in mat_A:\n",
    "    print(x)\n",
    "print(\"]\")"
   ]
  },
  {
   "cell_type": "markdown",
   "metadata": {},
   "source": [
    "## Vektor-Matrix-Multiplikation (1 Punkte)\n",
    "\n",
    "Berechnen Sie das Produkt aus Vektor a und Matrix A nach folgendem Prinzip:\n",
    "$$\n",
    "    \\begin{equation}\n",
    "    A*\\vec{x} \n",
    "    = \n",
    "    \\begin{pmatrix}\n",
    "    a_{11}  &\\cdots & a_{1n} \\\\ \n",
    "    \\vdots & \\ddots & \\vdots \\\\ \n",
    "    a_{m1} & \\cdots & a_{mn}\n",
    "    \\end{pmatrix}\n",
    "    *\n",
    "    \\begin{pmatrix}\n",
    "    x_{1} \\\\ \n",
    "    \\vdots \\\\ \n",
    "    x_{n} \n",
    "    \\end{pmatrix}\n",
    "    =\n",
    "    \\begin{pmatrix}\n",
    "    a_{11}x_1  &\\cdots & a_{1n}x_n \\\\ \n",
    "     & \\vdots &  \\\\ \n",
    "    a_{m1}x_1 & \\cdots & a_{mn}x_n\n",
    "    \\end{pmatrix}\n",
    "    \\end{equation}\n",
    "$$"
   ]
  },
  {
   "cell_type": "code",
   "execution_count": 7,
   "metadata": {
    "collapsed": true
   },
   "outputs": [
    {
     "name": "stdout",
     "output_type": "stream",
     "text": [
      "('Result of vector subtraction:', [211395, 229109, 174663, 107915, 143112, 159588, 140803, 210713, 207286, 185460])\n",
      "('Are the operations arithmetically equal?', True)\n"
     ]
    }
   ],
   "source": [
    "# your code (numpy: https://docs.scipy.org/doc/numpy/reference/generated/numpy.dot.html)\n",
    "mat_A = create_random_matrix(10,10)\n",
    "vec_mat_mul_result = matrix_vector_mul(mat_A, vec_a)\n",
    "\n",
    "print (\"Result of vector subtraction:\", vec_mat_mul_result)\n",
    "print (\"Are the operations arithmetically equal?\", np.array_equal(vec_mat_mul_result, np.dot(mat_A, vec_a)))"
   ]
  },
  {
   "cell_type": "markdown",
   "metadata": {},
   "source": [
    "## Transponente einer Matrix (1 Punkte)\n",
    "\n",
    "Manipulieren Sie die Matrix A, sodass die Transponente entsteht, siehe:\n",
    "    \n",
    "$$\n",
    "    \\begin{equation}\n",
    "    A\n",
    "    = \n",
    "    \\begin{pmatrix}\n",
    "    a_{11}  &\\cdots & a_{1n} \\\\ \n",
    "    \\vdots & \\ddots & \\vdots \\\\ \n",
    "    a_{m1} & \\cdots & a_{mn}\n",
    "    \\end{pmatrix}\n",
    "    \\end{equation}\n",
    "$$   \n",
    "$$\n",
    "    \\begin{equation}\n",
    "    A^T\n",
    "    = \n",
    "    \\begin{pmatrix}\n",
    "    a_{11}  &\\cdots & a_{m1} \\\\ \n",
    "    \\vdots & \\ddots & \\vdots \\\\ \n",
    "    a_{1n} & \\cdots & a_{mn}\n",
    "    \\end{pmatrix}\n",
    "    \\end{equation}\n",
    "$$   "
   ]
  },
  {
   "cell_type": "code",
   "execution_count": 8,
   "metadata": {
    "collapsed": true
   },
   "outputs": [
    {
     "name": "stdout",
     "output_type": "stream",
     "text": [
      "[[ 96 192 203 180 175 134 157 233  74 189]\n",
      " [178 172 215   1  52 185 132 100 132 191]\n",
      " [217 240 202  44 248 247  61 188  87  72]\n",
      " [152  62 178   3  78 123  42 246 224  14]\n",
      " [ 25  63   9  33 178 166  41 158  48 232]\n",
      " [149 212 102  25  51   1  71  20  25  42]\n",
      " [227 237 109   8   3  64 137 236 219 218]\n",
      " [149 238  20  86 114 135 217   0 196 220]\n",
      " [245 159 189 246 157 136  59 117 243 126]\n",
      " [187 206 225  99   3 162 106 254 228  79]]\n",
      "('Result of vector subtraction:', [[96, 192, 203, 180, 175, 134, 157, 233, 74, 189], [178, 172, 215, 1, 52, 185, 132, 100, 132, 191], [217, 240, 202, 44, 248, 247, 61, 188, 87, 72], [152, 62, 178, 3, 78, 123, 42, 246, 224, 14], [25, 63, 9, 33, 178, 166, 41, 158, 48, 232], [149, 212, 102, 25, 51, 1, 71, 20, 25, 42], [227, 237, 109, 8, 3, 64, 137, 236, 219, 218], [149, 238, 20, 86, 114, 135, 217, 0, 196, 220], [245, 159, 189, 246, 157, 136, 59, 117, 243, 126], [187, 206, 225, 99, 3, 162, 106, 254, 228, 79]])\n",
      "('Are the operations arithmetically equal?', True)\n"
     ]
    }
   ],
   "source": [
    "# your code (https://docs.scipy.org/doc/numpy-1.13.0/reference/generated/numpy.transpose.html)\n",
    "\n",
    "print np.transpose(mat_A)\n",
    "mat_transpose_result = matrix_transpose(mat_A)\n",
    "print (\"Result of vector subtraction:\", mat_transpose_result)\n",
    "print (\"Are the operations arithmetically equal?\", np.array_equal(mat_transpose_result, np.transpose(mat_A)))"
   ]
  },
  {
   "cell_type": "code",
   "execution_count": null,
   "metadata": {},
   "outputs": [],
   "source": []
  },
  {
   "cell_type": "code",
   "execution_count": null,
   "metadata": {},
   "outputs": [],
   "source": []
  },
  {
   "cell_type": "code",
   "execution_count": null,
   "metadata": {},
   "outputs": [],
   "source": []
  },
  {
   "cell_type": "code",
   "execution_count": null,
   "metadata": {},
   "outputs": [],
   "source": []
  },
  {
   "cell_type": "code",
   "execution_count": null,
   "metadata": {},
   "outputs": [],
   "source": []
  },
  {
   "cell_type": "code",
   "execution_count": null,
   "metadata": {},
   "outputs": [],
   "source": []
  },
  {
   "cell_type": "code",
   "execution_count": null,
   "metadata": {},
   "outputs": [],
   "source": []
  }
 ],
 "metadata": {
  "anaconda-cloud": {},
  "kernelspec": {
   "display_name": "Python 2",
   "language": "python",
   "name": "python2"
  },
  "language_info": {
   "codemirror_mode": {
    "name": "ipython",
    "version": 2
   },
   "file_extension": ".py",
   "mimetype": "text/x-python",
   "name": "python",
   "nbconvert_exporter": "python",
   "pygments_lexer": "ipython2",
   "version": "2.7.14"
  }
 },
 "nbformat": 4,
 "nbformat_minor": 2
}
