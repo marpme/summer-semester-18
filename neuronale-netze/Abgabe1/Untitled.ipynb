{
 "cells": [
  {
   "cell_type": "markdown",
   "metadata": {},
   "source": [
    "## Parameter\n",
    "\\begin{equation*}\n",
    "X =\n",
    "        \\begin{pmatrix}\n",
    "        4 & 4 & 5 \\\\\n",
    "        2 & 1 & 7 \\\\\n",
    "        4 & 8 & 3\n",
    "        \\end{pmatrix}\n",
    "        ,\n",
    "        Y =\n",
    "        \\begin{pmatrix}\n",
    "        1 & 6 \\\\\n",
    "        3 & 1 \\\\\n",
    "        5 & 2\n",
    "        \\end{pmatrix}\n",
    "        ,\n",
    "        \\vec{x} =\n",
    "        \\begin{pmatrix}\n",
    "        9 \\\\\n",
    "        5 \\\\\n",
    "        7\n",
    "        \\end{pmatrix}\n",
    "        ,\n",
    "        \\vec{y} =\n",
    "        \\begin{pmatrix}\n",
    "        3 \\\\\n",
    "        1 \\\\\n",
    "        5\n",
    "        \\end{pmatrix}\n",
    "\\end{equation*}"
   ]
  },
  {
   "cell_type": "markdown",
   "metadata": {},
   "source": [
    "### 1. Aufgabe"
   ]
  },
  {
   "cell_type": "markdown",
   "metadata": {},
   "source": [
    "$\\vec{x} * \\vec{y} = \\begin{pmatrix} 9 \\\\ 5 \\\\7 \\end{pmatrix} * \\begin{pmatrix} 3 \\\\ 1 \\\\ 5 \\end{pmatrix}$\n",
    "\n",
    "$ => 9 * 3 + 1 * 5 + 7 * 5 = 27 + 5 + 35 = 67$"
   ]
  },
  {
   "cell_type": "markdown",
   "metadata": {},
   "source": [
    "### 2. Aufgabe"
   ]
  },
  {
   "cell_type": "markdown",
   "metadata": {},
   "source": [
    "$\\vec{x} * \\vec{y}^{T} = \\begin{pmatrix} 9 \\\\ 5 \\\\7 \\end{pmatrix} * \\begin{pmatrix} 3 & 1 & 5 \\end{pmatrix}$"
   ]
  },
  {
   "cell_type": "code",
   "execution_count": null,
   "metadata": {},
   "outputs": [],
   "source": []
  }
 ],
 "metadata": {
  "kernelspec": {
   "display_name": "Python 3",
   "language": "python",
   "name": "python3"
  },
  "language_info": {
   "codemirror_mode": {
    "name": "ipython",
    "version": 2
   },
   "file_extension": ".py",
   "mimetype": "text/x-python",
   "name": "python",
   "nbconvert_exporter": "python",
   "pygments_lexer": "ipython2",
   "version": "2.7.14"
  }
 },
 "nbformat": 4,
 "nbformat_minor": 2
}
