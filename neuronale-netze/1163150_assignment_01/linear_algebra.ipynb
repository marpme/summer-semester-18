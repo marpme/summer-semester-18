{
 "cells": [
  {
   "cell_type": "markdown",
   "metadata": {},
   "source": [
    "# Übung Lineare Algebra (10 Punkte)\n",
    "\n",
    "Diese kleine Übung soll die Implementierung von grundlegenden arithmetischen Opertationen auf Vektoren und Matrizen wiederholen. \n",
    "\n",
    "Bitte implementieren Sie die notwendigen Methoden in der Datei **ak1163051/lineare_algebra.py** auf Basis des Datentyps **Liste** und verifizieren Sie ihre eigene Implementierungen mit der entsprechenden Operation aus dem Numpy-Modul in diesem Notebook, falls möglich. Ein Beispiel ist mit Addition und Subtraktion der Vektoren $\\vec{a}$ und $\\vec{b}$ gegeben.\n"
   ]
  },
  {
   "cell_type": "code",
   "execution_count": 1,
   "metadata": {},
   "outputs": [
    {
     "name": "stdout",
     "output_type": "stream",
     "text": [
      "('Vektor a: ', [20, 11, 225, 217, 43, 148, 232, 29, 174, 162])\n",
      "('Vektor b: ', [224, 153, 37, 205, 103, 184, 159, 242, 217, 49])\n"
     ]
    }
   ],
   "source": [
    "# Initialization of basic modules and global parameters... \n",
    "from lineare_algebra import * \n",
    "import numpy as np\n",
    "import random\n",
    "\n",
    "# create vectors a and b with 10 digits between 0-255\n",
    "vec_a = random.sample(range(255), 10)\n",
    "vec_b = random.sample(range(255), 10)\n",
    "\n",
    "print (\"Vektor a: \", vec_a)\n",
    "print (\"Vektor b: \", vec_b)"
   ]
  },
  {
   "cell_type": "markdown",
   "metadata": {},
   "source": [
    "## Addition und Subtraktion von Vektoren\n",
    "\n",
    "Berechnen Sie Betrag und Differenz von Vektoren nach folgendem Prinzip:\n",
    "\n",
    "$$\n",
    "\\begin{equation}\n",
    "    \\vec{a} + \\vec{b} \n",
    "    = \n",
    "    \\begin{pmatrix}\n",
    "    a_1\\\\ \n",
    "    a_2\\\\ \n",
    "    a_3\n",
    "    \\end{pmatrix} \n",
    "    +\n",
    "    \\begin{pmatrix}\n",
    "    b_1\\\\ \n",
    "    b_2\\\\ \n",
    "    b_3\n",
    "    \\end{pmatrix}\n",
    "    =\n",
    "    \\begin{pmatrix}\n",
    "    a_1 + b_1\\\\ \n",
    "    a_2 + b_2\\\\ \n",
    "    a_3 + b_3\n",
    "    \\end{pmatrix}\n",
    "\\end{equation}\n",
    "$$\n",
    "$$\n",
    "\\begin{equation}\n",
    "    \\vec{a} - \\vec{b} \n",
    "    = \n",
    "    \\begin{pmatrix}\n",
    "    a_1\\\\ \n",
    "    a_2\\\\ \n",
    "    a_3\n",
    "    \\end{pmatrix} \n",
    "    -\n",
    "    \\begin{pmatrix}\n",
    "    b_1\\\\ \n",
    "    b_2\\\\ \n",
    "    b_3\n",
    "    \\end{pmatrix}\n",
    "    =\n",
    "    \\begin{pmatrix}\n",
    "    a_1 - b_1\\\\ \n",
    "    a_2 - b_2\\\\ \n",
    "    a_3 - b_3\n",
    "    \\end{pmatrix}\n",
    "\\end{equation}\n",
    "$$\n"
   ]
  },
  {
   "cell_type": "code",
   "execution_count": 2,
   "metadata": {},
   "outputs": [
    {
     "name": "stdout",
     "output_type": "stream",
     "text": [
      "('Result of vector addition:', [244, 164, 262, 422, 146, 332, 391, 271, 391, 211])\n",
      "('Are the operations arithmetically equal?', True)\n",
      "('Result of vector subtraction:', [-204, -142, 188, 12, -60, -36, 73, -213, -43, 113])\n",
      "('Are the operations arithmetically equal?', True)\n"
     ]
    }
   ],
   "source": [
    "# Addition\n",
    "add_result = vector_add(vec_a,vec_b)\n",
    "print (\"Result of vector addition:\", add_result)\n",
    "print (\"Are the operations arithmetically equal?\", np.array_equal(add_result, np.add(vec_a,vec_b)))\n",
    "\n",
    "# Subtraction - please implement the methode in lineare_algebra.py \n",
    "sub_result = vector_sub(vec_a,vec_b)\n",
    "print (\"Result of vector subtraction:\", sub_result)\n",
    "print (\"Are the operations arithmetically equal?\", np.array_equal(sub_result, np.subtract(vec_a,vec_b)))"
   ]
  },
  {
   "cell_type": "markdown",
   "metadata": {},
   "source": [
    "## Multiplikation von Vektoren mit einem Skalar (0,5 Punkt)\n",
    "\n",
    "Berechenen Sie die Multiplikation von einem Skalar und einem Vektoren nach folgendem Prinzip:\n",
    "\n",
    "$$\n",
    "\\begin{equation}\n",
    "    r * \\vec{a}\n",
    "    = \n",
    "    r\n",
    "    \\begin{pmatrix}\n",
    "    a_1\\\\ \n",
    "    a_2\\\\ \n",
    "    a_3\n",
    "    \\end{pmatrix} \n",
    "    =\n",
    "    \\begin{pmatrix}\n",
    "    ra_1\\\\ \n",
    "    ra_2\\\\ \n",
    "    ra_3\n",
    "    \\end{pmatrix}\n",
    "\\end{equation}\n",
    "$$"
   ]
  },
  {
   "cell_type": "code",
   "execution_count": 3,
   "metadata": {},
   "outputs": [
    {
     "name": "stdout",
     "output_type": "stream",
     "text": [
      "('Result of vector subtraction:', [500, 275, 5625, 5425, 1075, 3700, 5800, 725, 4350, 4050])\n",
      "('Are the operations arithmetically equal?', True)\n"
     ]
    }
   ],
   "source": [
    "# your code\n",
    "r = 25\n",
    "vec_mul_result = vector_scalar_mul(r, vec_a)\n",
    "print (\"Result of vector subtraction:\", vec_mul_result)\n",
    "print (\"Are the operations arithmetically equal?\", np.array_equal(vec_mul_result, np.multiply(r,vec_a)))"
   ]
  },
  {
   "cell_type": "markdown",
   "metadata": {},
   "source": [
    "## Skalarprodukt (dot product) von Vektoren (1 Punkte)\n",
    "\n",
    "Berechnen Sie das Skalarprodukt von zwei Vektoren nach folgendem Prinzip:\n",
    "\n",
    "$$\n",
    "\\begin{equation}\n",
    "    \\vec{a} * \\vec{b} \n",
    "    = \n",
    "    \\begin{pmatrix}\n",
    "    a_1\\\\ \n",
    "    a_2\\\\ \n",
    "    a_3\n",
    "    \\end{pmatrix} \n",
    "    *\n",
    "    \\begin{pmatrix}\n",
    "    b_1\\\\ \n",
    "    b_2\\\\ \n",
    "    b_3\n",
    "    \\end{pmatrix}\n",
    "    =\n",
    "    a_1 * b_1 + a_2 * b_2 + a_3 * b_3\n",
    "\\end{equation}\n",
    "$$"
   ]
  },
  {
   "cell_type": "code",
   "execution_count": 4,
   "metadata": {
    "collapsed": true
   },
   "outputs": [
    {
     "name": "stdout",
     "output_type": "stream",
     "text": [
      "('Result of vector subtraction:', 180236)\n",
      "('Are the operations arithmetically equal?', True)\n"
     ]
    }
   ],
   "source": [
    "# your code (numpy: https://docs.scipy.org/doc/numpy/reference/generated/numpy.dot.html)\n",
    "vec_dot_result = vector_dot(vec_a, vec_b)\n",
    "print (\"Result of vector subtraction:\", vec_dot_result)\n",
    "print (\"Are the operations arithmetically equal?\", np.array_equal(vec_dot_result, np.dot(vec_a,vec_b)))"
   ]
  },
  {
   "cell_type": "markdown",
   "metadata": {},
   "source": [
    "## Erzeugen einer Matrize (1 Punkte)\n",
    "Erzeugen Sie mit Hilfe einer Methode eine Matrize mit der Dimension 10x10 von Zufallswerten zwischen 0 und 255."
   ]
  },
  {
   "cell_type": "code",
   "execution_count": 5,
   "metadata": {
    "collapsed": true
   },
   "outputs": [
    {
     "name": "stdout",
     "output_type": "stream",
     "text": [
      "[\n",
      "[189, 44, 8, 206, 250, 247, 34, 122, 132, 206]\n",
      "[78, 228, 105, 87, 135, 17, 242, 27, 9, 137]\n",
      "[5, 251, 47, 11, 56, 228, 12, 29, 208, 91]\n",
      "[146, 112, 94, 174, 160, 174, 252, 191, 141, 12]\n",
      "[26, 224, 228, 108, 38, 135, 187, 16, 122, 170]\n",
      "[41, 213, 214, 26, 194, 211, 90, 52, 174, 125]\n",
      "[93, 28, 173, 111, 203, 136, 196, 89, 180, 123]\n",
      "[48, 210, 149, 218, 61, 99, 50, 116, 126, 207]\n",
      "[22, 50, 206, 91, 121, 182, 253, 52, 183, 117]\n",
      "[69, 187, 93, 195, 69, 191, 140, 105, 36, 238]\n",
      "]\n"
     ]
    }
   ],
   "source": [
    "mat_A = create_random_matrix(10,10)\n",
    "# print (\"Matrix A: \", mat_A)\n",
    "print(\"[\")\n",
    "for x in mat_A:\n",
    "    print(x)\n",
    "print(\"]\")"
   ]
  },
  {
   "cell_type": "markdown",
   "metadata": {},
   "source": [
    "## Vektor-Matrix-Multiplikation (1 Punkte)\n",
    "\n",
    "Berechnen Sie das Produkt aus Vektor a und Matrix A nach folgendem Prinzip:\n",
    "$$\n",
    "    \\begin{equation}\n",
    "    A*\\vec{x} \n",
    "    = \n",
    "    \\begin{pmatrix}\n",
    "    a_{11}  &\\cdots & a_{1n} \\\\ \n",
    "    \\vdots & \\ddots & \\vdots \\\\ \n",
    "    a_{m1} & \\cdots & a_{mn}\n",
    "    \\end{pmatrix}\n",
    "    *\n",
    "    \\begin{pmatrix}\n",
    "    x_{1} \\\\ \n",
    "    \\vdots \\\\ \n",
    "    x_{n} \n",
    "    \\end{pmatrix}\n",
    "    =\n",
    "    \\begin{pmatrix}\n",
    "    a_{11}x_1  &\\cdots & a_{1n}x_n \\\\ \n",
    "     & \\vdots &  \\\\ \n",
    "    a_{m1}x_1 & \\cdots & a_{mn}x_n\n",
    "    \\end{pmatrix}\n",
    "    \\end{equation}\n",
    "$$"
   ]
  },
  {
   "cell_type": "code",
   "execution_count": 6,
   "metadata": {
    "collapsed": true
   },
   "outputs": [
    {
     "name": "stdout",
     "output_type": "stream",
     "text": [
      "('Result of vector subtraction:', [170560, 185702, 113097, 235638, 166257, 165365, 74560, 172244, 156529, 168795])\n",
      "('Are the operations arithmetically equal?', True)\n"
     ]
    }
   ],
   "source": [
    "# your code (numpy: https://docs.scipy.org/doc/numpy/reference/generated/numpy.dot.html)\n",
    "mat_A = create_random_matrix(10,10)\n",
    "vec_mat_mul_result = matrix_vector_mul(mat_A, vec_a)\n",
    "\n",
    "print (\"Result of vector subtraction:\", vec_mat_mul_result)\n",
    "print (\"Are the operations arithmetically equal?\", np.array_equal(vec_mat_mul_result, np.dot(mat_A, vec_a)))"
   ]
  },
  {
   "cell_type": "markdown",
   "metadata": {},
   "source": [
    "## Transponente einer Matrix (1 Punkte)\n",
    "\n",
    "Manipulieren Sie die Matrix A, sodass die Transponente entsteht, siehe:\n",
    "    \n",
    "$$\n",
    "    \\begin{equation}\n",
    "    A\n",
    "    = \n",
    "    \\begin{pmatrix}\n",
    "    a_{11}  &\\cdots & a_{1n} \\\\ \n",
    "    \\vdots & \\ddots & \\vdots \\\\ \n",
    "    a_{m1} & \\cdots & a_{mn}\n",
    "    \\end{pmatrix}\n",
    "    \\end{equation}\n",
    "$$   \n",
    "$$\n",
    "    \\begin{equation}\n",
    "    A^T\n",
    "    = \n",
    "    \\begin{pmatrix}\n",
    "    a_{11}  &\\cdots & a_{m1} \\\\ \n",
    "    \\vdots & \\ddots & \\vdots \\\\ \n",
    "    a_{1n} & \\cdots & a_{mn}\n",
    "    \\end{pmatrix}\n",
    "    \\end{equation}\n",
    "$$   "
   ]
  },
  {
   "cell_type": "code",
   "execution_count": 7,
   "metadata": {
    "collapsed": true
   },
   "outputs": [
    {
     "name": "stdout",
     "output_type": "stream",
     "text": [
      "[[ 63  55   6 232 218 189 106 141 239 182]\n",
      " [ 48 233 150 145  87 160  72  99 208 194]\n",
      " [148 117 128 251 122  45   9 227 212 235]\n",
      " [  6 183  61 226 231 175   8  43 192  83]\n",
      " [136 105  82 122 117 138 105  90  26 250]\n",
      " [137 227 100  28   6  25 150 191 191 196]\n",
      " [195 157 176 202 214 224  35 100   9  38]\n",
      " [200 124 242 252  20  55 182 245   3  41]\n",
      " [120 159   3 248 135 210  87 186  83 237]\n",
      " [223  63  16 106  23  74  78  81  87   7]]\n",
      "('Result of vector subtraction:', [[63, 55, 6, 232, 218, 189, 106, 141, 239, 182], [48, 233, 150, 145, 87, 160, 72, 99, 208, 194], [148, 117, 128, 251, 122, 45, 9, 227, 212, 235], [6, 183, 61, 226, 231, 175, 8, 43, 192, 83], [136, 105, 82, 122, 117, 138, 105, 90, 26, 250], [137, 227, 100, 28, 6, 25, 150, 191, 191, 196], [195, 157, 176, 202, 214, 224, 35, 100, 9, 38], [200, 124, 242, 252, 20, 55, 182, 245, 3, 41], [120, 159, 3, 248, 135, 210, 87, 186, 83, 237], [223, 63, 16, 106, 23, 74, 78, 81, 87, 7]])\n",
      "('Are the operations arithmetically equal?', True)\n"
     ]
    }
   ],
   "source": [
    "# your code (https://docs.scipy.org/doc/numpy-1.13.0/reference/generated/numpy.transpose.html)\n",
    "\n",
    "print np.transpose(mat_A)\n",
    "mat_transpose_result = matrix_transpose(mat_A)\n",
    "print (\"Result of vector subtraction:\", mat_transpose_result)\n",
    "print (\"Are the operations arithmetically equal?\", np.array_equal(mat_transpose_result, np.transpose(mat_A)))"
   ]
  },
  {
   "cell_type": "code",
   "execution_count": null,
   "metadata": {},
   "outputs": [],
   "source": []
  }
 ],
 "metadata": {
  "anaconda-cloud": {},
  "kernelspec": {
   "display_name": "Python 3",
   "language": "python",
   "name": "python3"
  },
  "language_info": {
   "codemirror_mode": {
    "name": "ipython",
    "version": 2
   },
   "file_extension": ".py",
   "mimetype": "text/x-python",
   "name": "python",
   "nbconvert_exporter": "python",
   "pygments_lexer": "ipython2",
   "version": "2.7.14"
  }
 },
 "nbformat": 4,
 "nbformat_minor": 2
}
