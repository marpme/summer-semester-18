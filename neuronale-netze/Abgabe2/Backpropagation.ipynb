{
 "cells": [
  {
   "cell_type": "code",
   "execution_count": 1,
   "metadata": {},
   "outputs": [],
   "source": [
    "from graphviz import Digraph"
   ]
  },
  {
   "cell_type": "code",
   "execution_count": 55,
   "metadata": {},
   "outputs": [],
   "source": [
    "'''graph_attr=[(\"rotate\", \"90\")]'''\n",
    "dot = Digraph(comment='Backpropagation')"
   ]
  },
  {
   "cell_type": "code",
   "execution_count": 56,
   "metadata": {},
   "outputs": [],
   "source": [
    "dot.node('a', '2', shape='plaintext')\n",
    "dot.node('b', 'e', shape='plaintext')\n",
    "dot.node('c', '3', shape='plaintext')\n",
    "dot.node('A', '+')\n",
    "dot.node('B', 'ln')\n",
    "dot.node('C', '*')\n",
    "dot.node('d', '1/3', shape=\"plaintext\")\n",
    "dot.node('D', '*')\n",
    "dot.node('E', '1/x')\n",
    "dot.node('F', 'out', shape=\"plaintext\")\n",
    "\n",
    "dot.edge('B', 'A', 'B: 8/9 [-1/9 + 1]')\n",
    "dot.edge('A', 'C', 'F: 3 [1+2] \\nB: -1/9 [-1/27 * 3]')\n",
    "dot.edge('a', 'A', 'B: 17/9 [-1/9 + 2]')\n",
    "dot.edge('b', 'B', 'F: 1 [ln(e)] \\nB: 1/(8/9) [1/x]')\n",
    "dot.edge('c', 'C', 'B: -1/9 [-1/27 * 3] ')\n",
    "dot.edge('C', 'D', 'F: 9 [3*3] \\nB: -1/27 [1/3 * -1/9]')\n",
    "dot.edge('d', 'D', 'B: -1 [-1/9 * 9]')\n",
    "dot.edge('D', 'E', 'F: 3 [9/3] \\nB: -1/9 [(-1/3^2) * 1]')\n",
    "dot.edge('E', 'F', 'F: 1/3 [1/x] \\nB: 1', _attributes=[(\"weight\", \"10\")])\n",
    "# 'AC' 'aA' 'bB' 'cC' 'CD' 'dD', 'DE', 'EF'])"
   ]
  },
  {
   "cell_type": "code",
   "execution_count": 57,
   "metadata": {},
   "outputs": [
    {
     "name": "stdout",
     "output_type": "stream",
     "text": [
      "// Backpropagation\n",
      "digraph {\n",
      "\ta [label=2 shape=plaintext]\n",
      "\tb [label=e shape=plaintext]\n",
      "\tc [label=3 shape=plaintext]\n",
      "\tA [label=\"+\"]\n",
      "\tB [label=ln]\n",
      "\tC [label=\"*\"]\n",
      "\td [label=\"1/3\" shape=plaintext]\n",
      "\tD [label=\"*\"]\n",
      "\tE [label=\"1/x\"]\n",
      "\tF [label=out shape=plaintext]\n",
      "\tB -> A [label=\"B: 8/9 [-1/9 + 1]\"]\n",
      "\tA -> C [label=\"F: 3 [1+2] \n",
      "B: -1/9 [-1/27 * 3]\"]\n",
      "\ta -> A [label=\"B: 17/9 [-1/9 + 2]\"]\n",
      "\tb -> B [label=\"F: 1 [ln(e)] \n",
      "B: 1/(8/9) [1/x]\"]\n",
      "\tc -> C [label=\"B: -1/9 [-1/27 * 3] \"]\n",
      "\tC -> D [label=\"F: 9 [3*3] \n",
      "B: -1/27 [1/3 * -1/9]\"]\n",
      "\td -> D [label=\"B: -1 [-1/9 * 9]\"]\n",
      "\tD -> E [label=\"F: 3 [9/3] \n",
      "B: -1/9 [(-1/3^2) * 1]\"]\n",
      "\tE -> F [label=\"F: 1/3 [1/x] \n",
      "B: 1\" weight=10]\n",
      "}\n"
     ]
    }
   ],
   "source": [
    "print(dot.source)"
   ]
  },
  {
   "cell_type": "code",
   "execution_count": 54,
   "metadata": {},
   "outputs": [
    {
     "data": {
      "text/plain": [
       "'./dotgraph.pdf'"
      ]
     },
     "execution_count": 54,
     "metadata": {},
     "output_type": "execute_result"
    }
   ],
   "source": [
    "dot.render(\"./dotgraph\", view=True, cleanup=True)"
   ]
  },
  {
   "cell_type": "code",
   "execution_count": null,
   "metadata": {},
   "outputs": [],
   "source": []
  },
  {
   "cell_type": "code",
   "execution_count": null,
   "metadata": {},
   "outputs": [],
   "source": []
  },
  {
   "cell_type": "code",
   "execution_count": null,
   "metadata": {},
   "outputs": [],
   "source": []
  }
 ],
 "metadata": {
  "kernelspec": {
   "display_name": "Python 3",
   "language": "python",
   "name": "python3"
  },
  "language_info": {
   "codemirror_mode": {
    "name": "ipython",
    "version": 2
   },
   "file_extension": ".py",
   "mimetype": "text/x-python",
   "name": "python",
   "nbconvert_exporter": "python",
   "pygments_lexer": "ipython2",
   "version": "2.7.15"
  }
 },
 "nbformat": 4,
 "nbformat_minor": 2
}
